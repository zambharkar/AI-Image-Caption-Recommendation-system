{
 "cells": [
  {
   "cell_type": "markdown",
   "id": "e0e587ff-f8be-4635-845f-0022501689fa",
   "metadata": {},
   "source": [
    "# AI IMAGECAPTION RECOMMENDATION SYSTEM"
   ]
  },
  {
   "cell_type": "markdown",
   "id": "530b11df-62a9-4aa8-93e6-c2f6064fe1cc",
   "metadata": {},
   "source": [
    "Applications like Instagram still lack a caption-generation tool because most LLMs don’t write captions; they describe the image instead. This is where a caption recommendation system can help, using a library of captions to find the caption that goes well with the image."
   ]
  },
  {
   "cell_type": "markdown",
   "id": "f3bd0541-a38d-4204-96f8-f4952e194135",
   "metadata": {},
   "source": [
    "# AN OVERVIEW"
   ]
  },
  {
   "cell_type": "markdown",
   "id": "e8f57bb9-d19f-45af-8b8a-663520be2b3d",
   "metadata": {},
   "source": [
    "I will build an AI Image Caption Recommendation System using a retrieval-based approach, leveraging CLIP (Contrastive Language–Image Pre-training) for both image and text understanding.\n",
    "\n",
    "First, the input image will be preprocessed and fed into the CLIP image encoder to generate a high-dimensional feature vector representing the image’s visual content. A similar process will be applied to a set of candidate captions, using the CLIP text encoder to generate text embeddings for each caption. Next, the cosine similarity between the image embedding and each caption embedding will be calculated. This similarity score will quantify how well each caption aligns with the visual content of the image.\n",
    "\n",
    "Finally, the system ranks the candidate captions based on their similarity scores and presents the top-ranked captions as recommendations."
   ]
  },
  {
   "cell_type": "markdown",
   "id": "4cd275c1-d8af-4996-a988-9b7aefb41a2d",
   "metadata": {},
   "source": [
    "Now, let’s get started with building an AI Image Caption Recommendation System by importing the necessary Python libraries:"
   ]
  },
  {
   "cell_type": "code",
   "execution_count": 30,
   "id": "8383dc96-a4ce-4885-9e9c-48c28e524aa9",
   "metadata": {},
   "outputs": [],
   "source": [
    "import torch\n",
    "from PIL import Image\n",
    "from transformers import CLIPProcessor, CLIPModel, AutoProcessor, AutoModelForCausalLM"
   ]
  },
  {
   "cell_type": "code",
   "execution_count": 31,
   "id": "c0145df9-aee8-43f2-a6c3-49db50314376",
   "metadata": {},
   "outputs": [],
   "source": [
    "# image loading and preprocessing\n",
    "def load_and_preprocess_image(image_path):\n",
    "    image = Image.open(image_path).convert(\"RGB\")\n",
    "    processor = CLIPProcessor.from_pretrained(\"openai/clip-vit-base-patch32\")\n",
    "    inputs = processor(images=image, return_tensors=\"pt\")\n",
    "    return inputs, processor"
   ]
  },
  {
   "cell_type": "markdown",
   "id": "519ea36e-8f3f-4464-8754-6d5e0a65eee1",
   "metadata": {},
   "source": [
    "This function opens the image using PIL, converts it to RGB format (important for consistency), and then uses the CLIPProcessor to transform the image into a format suitable for the CLIP model. The processor handles resizing, normalization, and other necessary transformations. The output will be a PyTorch tensor ready for CLIP."
   ]
  },
  {
   "cell_type": "markdown",
   "id": "d8ac0549-02a4-4f8b-afb7-d9ee31fba29b",
   "metadata": {},
   "source": [
    "# Generating Image Embeddings"
   ]
  },
  {
   "cell_type": "markdown",
   "id": "1d2302e4-473c-4daf-936a-86c6b51cc36d",
   "metadata": {},
   "source": [
    "Now, we will write a function to generate image embeddings using CLIP. CLIP is a multi-modal model which leverages the power of LLMs, which can understand the content of images and match them to their relevant textual descriptions. Let’s write the function to generate image embeddings:"
   ]
  },
  {
   "cell_type": "code",
   "execution_count": 32,
   "id": "43d6cfe2-f564-45c6-a727-d94aabcb2adc",
   "metadata": {},
   "outputs": [],
   "source": [
    "# image understanding with CLIP\n",
    "def generate_image_embeddings(inputs):\n",
    "    model = CLIPModel.from_pretrained(\"openai/clip-vit-base-patch32\")\n",
    "    with torch.no_grad():\n",
    "        image_features = model.get_image_features(**inputs)\n",
    "\n",
    "    return image_features, model"
   ]
  },
  {
   "cell_type": "markdown",
   "id": "eedf6975-c9b0-4a41-a21a-4111585b55ff",
   "metadata": {},
   "source": [
    "This function loads the pre-trained CLIP model. The crucial step here is model.get_image_features(**inputs), which passes the preprocessed image tensor to the CLIP model and extracts a high-dimensional feature vector representing the image’s visual content. torch.no_grad() is used to prevent gradient calculations during inference, saving memory and speeding up the process."
   ]
  },
  {
   "cell_type": "markdown",
   "id": "33a1895c-7dc9-4a73-b2f6-4302ad70e3aa",
   "metadata": {},
   "source": [
    "# Matching Image with Text Embeddings"
   ]
  },
  {
   "cell_type": "markdown",
   "id": "bdbd4004-eb17-4428-b7d6-7bc11cbea7f3",
   "metadata": {},
   "source": [
    "Now, we will write a function to match captions:"
   ]
  },
  {
   "cell_type": "code",
   "execution_count": 3,
   "id": "86e7e0c2-0ed2-4bb1-bf38-2c57f0ddbddc",
   "metadata": {},
   "outputs": [],
   "source": [
    "# caption matching (using CLIP text embeddings)\n",
    "def match_captions(image_features, captions, clip_model, processor):\n",
    "    # 1. get text embeddings for the captions:\n",
    "    text_inputs = processor(text=captions, return_tensors=\"pt\", padding=True)\n",
    "    with torch.no_grad():\n",
    "        text_features = clip_model.get_text_features(**text_inputs)\n",
    "\n",
    "    # 2. calculate cosine similarity between image and text features:\n",
    "    image_features = image_features.detach().cpu().numpy()\n",
    "    text_features = text_features.detach().cpu().numpy()\n",
    "\n",
    "    similarities = cosine_similarity(image_features, text_features)\n",
    "\n",
    "    # 3. find the best matching captions:\n",
    "    best_indices = similarities.argsort(axis=1)[0][::-1]  \n",
    "    best_captions = [captions[i] for i in best_indices]\n",
    "\n",
    "    return best_captions, similarities[0][best_indices].tolist()"
   ]
  },
  {
   "cell_type": "markdown",
   "id": "043ab257-ac53-42c0-a883-5e77b6bd3dcd",
   "metadata": {},
   "source": [
    "This function takes the image features and a list of candidate captions as input. It processes the captions using the same CLIPProcessor (now for text) to get text embeddings. It then calculates the cosine similarity between the image embedding and each text embedding. Cosine similarity measures the angle between two vectors; a value closer to 1 indicates higher similarity. The function will return the captions ranked by similarity and their corresponding similarity scores.\n",
    "\n",
    "Now, let’s write the driver function:"
   ]
  },
  {
   "cell_type": "code",
   "execution_count": 6,
   "id": "ddc3faf8-f55a-49fd-89da-4546bc4d5c83",
   "metadata": {},
   "outputs": [],
   "source": [
    "# main function\n",
    "def image_captioning(image_path, candidate_captions):  \n",
    "    inputs, processor = load_and_preprocess_image(image_path)\n",
    "    image_features, clip_model = generate_image_embeddings(inputs)\n",
    "\n",
    "    best_captions, similarities = match_captions(image_features, candidate_captions, clip_model, processor)\n",
    "    return best_captions, similarities"
   ]
  },
  {
   "cell_type": "markdown",
   "id": "afe51c20-de95-4883-b3d8-e63e18a74260",
   "metadata": {},
   "source": [
    "This function ties together the preprocessing, feature extraction, and matching processes. It takes an image path and a list of candidate captions, processes the image, gets its features, and then matches these features against the captions. The result will be a list of best-fit captions with their similarity scores."
   ]
  },
  {
   "cell_type": "markdown",
   "id": "4df1d7c7-ccb5-47fd-9775-ef630d826cfc",
   "metadata": {},
   "source": [
    "Now, let’s write a list of captions that we can use to match with the image:"
   ]
  },
  {
   "cell_type": "code",
   "execution_count": 10,
   "id": "6ece936d-1dd8-46ef-b531-2defaa547d0e",
   "metadata": {},
   "outputs": [],
   "source": [
    "candidate_captions = [\n",
    "    \"Trees, Travel and Tea!\",\n",
    "    \"A refreshing beverage.\",\n",
    "    \"A moment of indulgence.\",\n",
    "    \"The perfect thirst quencher.\",\n",
    "    \"Your daily dose of delight.\",\n",
    "    \"Taste the tradition.\",\n",
    "    \"Savor the flavor.\",\n",
    "    \"Refresh and rejuvenate.\",\n",
    "    \"Unwind and enjoy.\",\n",
    "    \"The taste of home.\",\n",
    "    \"A treat for your senses.\",\n",
    "    \"A taste of adventure.\",\n",
    "    \"A moment of bliss.\",\n",
    "    \"Your travel companion.\",\n",
    "    \"Fuel for your journey.\",\n",
    "    \"The essence of nature.\",\n",
    "    \"The warmth of comfort.\",\n",
    "    \"A sip of happiness.\",\n",
    "    \"Pure indulgence.\",\n",
    "    \"Quench your thirst, ignite your spirit.\",\n",
    "    \"Awaken your senses, embrace the moment.\",\n",
    "    \"The taste of faraway lands.\",\n",
    "    \"A taste of home, wherever you are.\",\n",
    "    \"Your daily dose of delight.\",\n",
    "    \"Your moment of serenity.\",\n",
    "    \"The perfect pick-me-up.\",\n",
    "    \"The perfect way to unwind.\",\n",
    "    \"Taste the difference.\",\n",
    "    \"Experience the difference.\",\n",
    "    \"A refreshing escape.\",\n",
    "    \"A delightful escape.\",\n",
    "    \"The taste of tradition, the spirit of adventure.\",\n",
    "    \"The warmth of home, the joy of discovery.\",\n",
    "    \"Your passport to flavor.\",\n",
    "    \"Your ticket to tranquility.\",\n",
    "    \"Sip, savor, and explore.\",\n",
    "    \"Indulge, relax, and rejuvenate.\",\n",
    "    \"The taste of wanderlust.\",\n",
    "    \"The comfort of home.\",\n",
    "    \"A journey for your taste buds.\",\n",
    "    \"A haven for your senses.\",\n",
    "    \"Your refreshing companion.\",\n",
    "    \"Your delightful escape.\",\n",
    "    \"Taste the world, one sip at a time.\",\n",
    "    \"Embrace the moment, one cup at a time.\",\n",
    "    \"The essence of exploration.\",\n",
    "    \"The comfort of connection.\",\n",
    "    \"Quench your thirst for adventure.\",\n",
    "    \"Savor the moment of peace.\",\n",
    "    \"The taste of discovery.\",\n",
    "    \"The warmth of belonging.\",\n",
    "    \"Your travel companion, your daily delight.\",\n",
    "    \"Your moment of peace, your daily indulgence.\",\n",
    "    \"The spirit of exploration, the comfort of home.\",\n",
    "    \"The joy of discovery, the warmth of connection.\",\n",
    "    \"Sip, savor, and set off on an adventure.\",\n",
    "    \"Indulge, relax, and find your peace.\",\n",
    "    \"A delightful beverage.\",\n",
    "    \"A moment of relaxation.\",\n",
    "    \"The perfect way to start your day.\",\n",
    "    \"The perfect way to end your day.\",\n",
    "    \"A treat for yourself.\",\n",
    "    \"Something to savor.\",\n",
    "    \"A moment of calm.\",\n",
    "    \"A taste of something special.\",\n",
    "    \"A refreshing pick-me-up.\",\n",
    "    \"A comforting drink.\",\n",
    "    \"A taste of adventure.\",\n",
    "    \"A moment of peace.\",\n",
    "    \"A small indulgence.\",\n",
    "    \"A daily ritual.\",\n",
    "    \"A way to connect with others.\",\n",
    "    \"A way to connect with yourself.\",\n",
    "    \"A taste of home.\",\n",
    "    \"A taste of something new.\",\n",
    "    \"A moment to enjoy.\",\n",
    "    \"A moment to remember.\"\n",
    "]"
   ]
  },
  {
   "cell_type": "markdown",
   "id": "100b4cb6-1a98-451c-bd5e-a8f40933cf0a",
   "metadata": {},
   "source": [
    "The quality and diversity of these captions will significantly impact the system’s performance."
   ]
  },
  {
   "cell_type": "markdown",
   "id": "b300609d-382e-4d1d-983c-20fee15bcd7b",
   "metadata": {},
   "source": [
    "# Let’s Test by Finding Captions"
   ]
  },
  {
   "cell_type": "markdown",
   "id": "01c15a40-fbf4-40fe-a107-9ed3cf0ca948",
   "metadata": {},
   "source": [
    "Now, I will take an image as input and use our AI Image Recommendation System to find the best captions for the image. Below is the image I am using:"
   ]
  },
  {
   "cell_type": "code",
   "execution_count": 52,
   "id": "5444a8fc-1bac-4f71-a6a7-b29e1768d875",
   "metadata": {},
   "outputs": [
    {
     "name": "stdout",
     "output_type": "stream",
     "text": [
      "Top 5 Best Captions:\n",
      "1. A moment to enjoy. (Similarity: 0.2140)\n",
      "2. A moment to remember. (Similarity: 0.2139)\n",
      "3. A way to connect with others. (Similarity: 0.2128)\n",
      "4. The warmth of home, the joy of discovery. (Similarity: 0.2015)\n",
      "5. The joy of discovery, the warmth of connection. (Similarity: 0.2009)\n"
     ]
    }
   ],
   "source": [
    "from sklearn.metrics.pairwise import cosine_similarity \n",
    "\n",
    "best_captions, similarities = image_captioning(\"MIT.png\", candidate_captions)\n",
    "\n",
    "# get the top 5 results\n",
    "top_n = min(5, len(best_captions))\n",
    "top_best_captions = best_captions[:top_n]\n",
    "top_similarities = similarities[:top_n]\n",
    "\n",
    "print(\"Top 5 Best Captions:\")\n",
    "for i, (caption, similarity) in enumerate(zip(top_best_captions, top_similarities)):\n",
    "    print(f\"{i+1}. {caption} (Similarity: {similarity:.4f})\")\n",
    "\n",
    "\n"
   ]
  },
  {
   "cell_type": "markdown",
   "id": "e1162462-422f-437e-ba0f-141f3188c179",
   "metadata": {},
   "source": [
    "This is how to use the image_captioning function with an image path and the list of candidate captions. As you can see, it then prints the top 5 best captions along with their similarity scores. This caption recommendation system doesn’t describe the image that an LLM will do. It recommends a relevant caption from a list of captions that you can use on social media platforms."
   ]
  },
  {
   "cell_type": "markdown",
   "id": "cad8ec06-767b-4214-920e-7615cc71e22c",
   "metadata": {},
   "source": [
    "So, by leveraging CLIP’s ability to create joint image-text embeddings, the system efficiently matches an image to the most similar captions from a pre-defined list, which offers a practical solution for quickly finding relevant captions for platforms like social media."
   ]
  },
  {
   "cell_type": "code",
   "execution_count": null,
   "id": "9fab908d-aed0-47b9-b1fc-34ae9c7059f4",
   "metadata": {},
   "outputs": [],
   "source": []
  }
 ],
 "metadata": {
  "kernelspec": {
   "display_name": "Python 3 (ipykernel)",
   "language": "python",
   "name": "python3"
  },
  "language_info": {
   "codemirror_mode": {
    "name": "ipython",
    "version": 3
   },
   "file_extension": ".py",
   "mimetype": "text/x-python",
   "name": "python",
   "nbconvert_exporter": "python",
   "pygments_lexer": "ipython3",
   "version": "3.12.4"
  }
 },
 "nbformat": 4,
 "nbformat_minor": 5
}
